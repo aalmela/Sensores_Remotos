{
 "cells": [
  {
   "cell_type": "markdown",
   "metadata": {},
   "source": [
    "# Transformada de Fourier\n",
    "\n",
    "Matemáticamente, la transformada de Fourier se emplea para pasa del dominio del tiempo al dominio de la frecuencia y viceversa se llama Transformada de Fourier. \n",
    "\n",
    "Se define de la siguiente manera:\n",
    "\n",
    "$$X(f) = \\int x(t) e^{- 2j \\pi f t} dt$$\n",
    "\n",
    "\n",
    "Para una señal $x(t)$ podemos obtener la versión en el dominio de la frecuencia, $X(f)$, usando la expresión.\n",
    "Representaremos en el dominio del tiempo una función con $x(t)$ o $y(t)$, y en el dominio de la frecuencia correspondiente con $X(f)$ e $Y(f)$. \n",
    "La \"j\" es la unidad imaginaria. \n",
    "Se emplea \"j\" en ingeniería y ciencias de la computación porque \"i\" se refiere en programación se usa a menudo como un iterador.\n",
    "\n",
    "\n",
    "Si $x(t)$  es una función de variable real $t$, que es integrable en el intervalo $[t_0-T/2,t_0+T/2]\\,$  entonces se puede obtener el desarrollo en serie de Fourier de $x(t)\\,$ en ese intervalo. \n",
    "Fuera del intervalo la serie es periódica, con período $T\\,$. \n",
    "\n",
    "Si $f(t)$ es periódica en toda la recta real, la aproximación por series de Fourier también será válida en todos los valores de $t\\,$. \n",
    "\n",
    "\n",
    "### Serie de Fourier trigonometrica\n",
    "\n",
    "Luego la serie de Fourier asociada a $x(t)\\,$ es:\n",
    "\n",
    "$$x(t) \\sim \\frac{a_0}{2} + \\sum_{k=1}^\\infty\\left[a_k\\cos \\left( \\frac{2\\pi k}{T}t \\right) + b_k\\sin \\left( \\frac{2\\pi k}{T}t \\right) \\right]$$\n",
    "\n",
    "Donde $a_0$, $a_k$ y $b_k$ son los coeficientes de la serie de Fourier que toman los valores:\n",
    "\n",
    "$$a_0 = \\frac{2}{T} \\int_{-\\frac{T}{2}}^{\\frac{T}{2}}  f(t) dt $$\n",
    "\n",
    "$$a_k = \\frac{2}{T} \\int_{-T/2}^{T/2}  x(t) \\cos \\left( \\frac{2 \\pi k}{T} t \\right) dt$$\n",
    "\n",
    "$$b_k = \\frac{2}{T} \\int_{-T/2}^{T/2}  x(t) \\sin \\left(\\frac{2 \\pi  k}{T} t\\right) dt$$\n",
    "\n",
    "\n",
    "### Serie de Fourier exponencial\n",
    "Por la identidad de Euler, las fórmulas de arriba pueden expresarse también en su forma compleja:\n",
    "\n",
    "$$ f(t) \\sim \\sum_{n=-\\infty}^{\\infty} c_{n}\\,e^{2j\\pi \\frac{n}{T}t}.$$\n",
    "\n",
    "Los coeficientes ahora serían:\n",
    "\n",
    "$$c_n=\\frac{1}{T}\\int_{-T/2}^{T/2} f(t)\\,e^{-2j \\pi \\frac {n}{T}t}\\,dt.$$\n",
    "\n",
    "\n",
    "### Euler's formula:\n",
    "$$e^{ j \\theta} = cos(\\theta) + j \\cdot sin(\\theta)$$\n",
    "\n",
    "\n",
    "https://mathworld.wolfram.com/FourierSeries.html\n",
    "\n",
    "https://pysdr.org/content/frequency_domain.html#fourier-series\n",
    "\n",
    "### La Transformada inversa\n",
    "\n",
    "La transformada inversa permite pasar del dominio del tiempo desde la frecuencia. Esta operación es similar, aparte de un factor de escala y un signo negativo:\n",
    "\n",
    "$$x(t) = \\frac{1}{2\\pi} \\int X(f) e^{2j \\pi f t} df$$\n",
    "\n",
    "\n",
    "\n"
   ]
  },
  {
   "cell_type": "markdown",
   "metadata": {},
   "source": [
    "### Serie de Fourier exponencial discreta\n",
    "\n",
    "\n",
    "La ecuación anterior para la Transformada de Fourier es la forma continua, que solo verá en problemas matemáticos. \n",
    "La forma discreta se implementa en el programación  como en simulaciones, procesamiento de señales.\n",
    "\n",
    "Sea $x[n]$ una señal aperiódica discreta en el tiempo, la transformada discreta de Fourier (DFT) de esta señal se define como:\n",
    "\n",
    "$$X[k]= \\sum_{n=0}^{N-1} x[n]\\,e^{-j 2\\pi k \\frac{n}{N}}$$\n",
    "\n",
    "en la cual $X[k]$ es un conjunto de números complejos. El índice $k$ va de $0$ a $N-1$.\n",
    "\n",
    "\n",
    "\n",
    "\n",
    "La evaluación directa de esa fórmula requiere $N^{2}$ operaciones aritméticas, pero con un algoritmo FFT se puede obtener el mismo resultado con sólo $N log(N)$ operaciones.\n",
    "\n",
    "\n",
    "Otra forma de definir la serie de Fourier es:\n",
    "$e^{-j\\alpha} = cos(\\alpha) + j sin(\\alpha)$\n",
    "\n",
    "$$X[k]= \\sum_{n=0}^{N-1} x[n]\\,(cos(-j 2\\pi k \\frac{n}{N}) + j sin(-j 2\\pi k \\frac{n}{N}))$$\n",
    "\n",
    "$$X[k]= \\sum_{n=0}^{N-1} (x[n]\\,cos(-j 2\\pi k \\frac{n}{N}) + j x[n]\\,sin(-j 2\\pi k \\frac{n}{N}))$$\n",
    "\n",
    "$$X[k]= \\sum_{n=0}^{N-1} (x[n]\\,cos(-j 2\\pi k \\frac{n}{N}) + j x[n]\\,sin(-j 2\\pi k \\frac{n}{N}))$$\n",
    "\n",
    "\n",
    "donde la parte de real se asocia a $a[k]$ y la parte imaginaria a $b[k]$\n",
    "\n",
    "\n",
    "Si $k=0$: (componente de continua, no tiene parte imaginaria)  \n",
    "\n",
    "$a[0] = \\frac{2}{N}  \\sum_{n=0}^{N-1} x[n]$\n",
    "\n",
    "\n",
    "$b[0] = 0$ \n",
    "\n",
    "\n",
    "\n",
    "Si $k > 0$ y $k< N-1$:\n",
    "\n",
    "$$a[k] = \\frac{2}{N} \\sum_{n=0}^{N-1} x[n] \\cos(2\\pi n \\frac{k}{N})$$ \n",
    "\n",
    "$$b[k] = \\frac{2}{N} \\sum_{n=0}^{N-1} x[n] \\sin(2\\pi n \\frac{k}{N})$$\n",
    "\n",
    "\n",
    "# Transformada inversa de Fourier\n",
    "\n",
    "$$x[n] = \\frac{1}{N} \\sum_{k=0}^{N-1} X[k] \\cdot e^{ 2j \\pi k \\frac{n}{N}}$$\n",
    "\n",
    "\n",
    "$$x[n] = \\frac{a_0}{2} + \\sum_{n=1}^\\infty\\left(a_n\\cos{{\\omega_n}{t}} + b_n\\sin{{\\omega_n}{t}}\\right)$$\n",
    "\n"
   ]
  },
  {
   "cell_type": "markdown",
   "metadata": {},
   "source": [
    "# FFT en python\n",
    "\n",
    "Vamos a utilizar la función de FFT de Numpy, np.fft.fft(), para los siguientes ejemplos. \n",
    "\n",
    "\n",
    "Ejemplo\n",
    "\n",
    "Sea el vector \n",
    "\n",
    "|$n=0$  | $n=1$  |$n=2$   |$n=3$   |$n=4$   |$n=5$    |$n=6$   | $n=7$   |\n",
    "|-------|--------|--------|--------|--------|---------|--------|---------|\n",
    "|1.0    | 1.0    | 1.0    | 1.0    | -1.0   | -1.0    |-1.0    | -1.0    |  \n",
    "\n",
    "Expresando la matriz de $e^{-2j\\pi.k.n/8}$\n",
    "\n",
    "\n",
    "|$e^{-2j\\pi.n.k/8}$      |$n=0$   | $n=1$    |  $n=2$   |  $n=3$   | $n=4$    |  $n=5$   |  $n=6$   | $n=7$   |\n",
    "|------------------------|--------|----------|----------|----------|----------|----------|---------|----------|\n",
    "|$k=0$                   |1.0+0.0j|  1.0+0.0j|  1.0+0.0j|  1.0+0.0j|  1.0+0.0j|  1.0+0.0j| 1.0+0.0j|  1.0+0.0j|\n",
    "|$k=1$                   |1.0+0.0j|  0.7-0.7j|  0.0-1.0j| -0.7-0.7j| -1.0-0.0j| -0.7+0.7j|-0.0+1.0j|  0.7+0.7j|\n",
    "|$k=2$                   |1.0+0.0j|  0.0-1.0j| -1.0-0.0j| -0.0+1.0j|  1.0+0.0j|  0.0-1.0j|-1.0-0.0j| -0.0+1.0j|\n",
    "|$k=3$                   |1.0+0.0j| -0.7-0.7j| -0.0+1.0j|  0.7-0.7j| -1.0-0.0j|  0.7+0.7j| 0.0-1.0j| -0.7+0.7j|\n",
    "|$k=4$                   |1.0+0.0j| -1.0-0.0j|  1.0+0.0j| -1.0-0.0j|  1.0+0.0j| -1.0-0.0j| 1.0+0.0j| -1.0-0.0j|\n",
    "|$k=5$                   |1.0+0.0j| -0.7+0.7j|  0.0-1.0j|  0.7+0.7j| -1.0-0.0j|  0.7-0.7j|-0.0+1.0j| -0.7-0.7j|\n",
    "|$k=6$                   |1.0+0.0j| -0.0+1.0j| -1.0-0.0j|  0.0-1.0j|  1.0+0.0j| -0.0+1.0j|-1.0-0.0j| -0.0-1.0j|\n",
    "|$k=7$                   |1.0+0.0j|  0.7+0.7j| -0.0+1.0j| -0.7+0.7j| -1.0-0.0j| -0.7-0.7j|-0.0-1.0j|  0.7-0.7j|\n",
    "\n",
    "\n"
   ]
  },
  {
   "cell_type": "code",
   "execution_count": 1,
   "metadata": {},
   "outputs": [],
   "source": [
    "import numpy as np\n",
    "import matplotlib.pyplot as plt\n",
    "import scipy                  # http://scipy.org/\n",
    "from scipy import signal\n",
    "from numpy import pi\n",
    "\n",
    "from IPython.display import Image  \n",
    "\n",
    "from scipy.fftpack import fft, fftfreq\n",
    "from time import time\n",
    "\n",
    "%matplotlib inline\n",
    "params = {'legend.fontsize': 16,\n",
    "          'figure.figsize': (6, 6),\n",
    "         'axes.labelsize': 16,\n",
    "         'axes.titlesize': 16,\n",
    "         'xtick.labelsize':16,\n",
    "         'ytick.labelsize':16}\n",
    "plt.rcParams.update(params) \n"
   ]
  },
  {
   "cell_type": "code",
   "execution_count": 2,
   "metadata": {},
   "outputs": [
    {
     "data": {
      "image/png": "[encoded data removed]",
      "text/plain": [
       "<Figure size 432x288 with 1 Axes>"
      ]
     },
     "metadata": {
      "needs_background": "light"
     },
     "output_type": "display_data"
    }
   ],
   "source": [
    "# A continuación se define la función de la señal en función del tiempo. \n",
    "# Parametros de la señal\n",
    "fm  = 100.0; Am  = 1; \n",
    "Nm  = 1 #Numero de periodos\n",
    "\n",
    "# Muestreo\n",
    "fs  = fm*16   # muestreo\n",
    "ds  = 1/(fs)  # Espaciado (puntos por período)\n",
    "\n",
    "# Vector tiempo\n",
    "t  = np.arange(0, Nm/fm, ds)  # Intervalo de tiempo en segundos \n",
    "\n",
    "# Señal\n",
    "y = Am*np.cos(2 * pi * fm * t)  # Señal\n",
    "#y = Am*signal.square(2 * pi * fm * t)  # Señal\n",
    "\n",
    "# PLOT \n",
    "plt.plot(t, y)\n",
    "plt.plot(t, y, 'ko'); plt.xlabel('$Tiempo/s$')\n",
    "plt.ylabel('$y(t)$'); plt.grid()\n",
    "plt.show()"
   ]
  },
  {
   "cell_type": "code",
   "execution_count": 3,
   "metadata": {},
   "outputs": [
    {
     "name": "stdout",
     "output_type": "stream",
     "text": [
      "Elapsed time: 0.0008242130 seconds.\n"
     ]
    },
    {
     "name": "stderr",
     "output_type": "stream",
     "text": [
      "/home/aalmela/anaconda3/lib/python3.7/site-packages/ipykernel_launcher.py:16: UserWarning: In Matplotlib 3.3 individual lines on a stem plot will be added as a LineCollection instead of individual lines. This significantly improves the performance of a stem plot. To remove this warning and switch to the new behaviour, set the \"use_line_collection\" keyword argument to True.\n",
      "  app.launch_new_instance()\n"
     ]
    },
    {
     "data": {
      "image/png": "[encoded data removed]",
      "text/plain": [
       "<Figure size 432x288 with 1 Axes>"
      ]
     },
     "metadata": {
      "needs_background": "light"
     },
     "output_type": "display_data"
    }
   ],
   "source": [
    "## Calculo del espectro empleando la funciones de scipy.fftpack  (fft, fftfreq)\n",
    "#Se emplea mide el tiempo de computo de la función con fines de comparación. \n",
    "\n",
    "# se guarda el tiempo de inicio \n",
    "start_time = time()\n",
    " \n",
    "Y = fft(y)/len(y)  # Normalizada\n",
    "#S = np.fft.fftshift(np.fft.fft(s))\n",
    "#S_mag = np.abs(S)\n",
    "#S_phase = np.angle(S)\n",
    "elapsed_time = time() - start_time\n",
    "print(\"Elapsed time: %.10f seconds.\" % elapsed_time)\n",
    "\n",
    "frq = fftfreq(len(y), ds)  # Recuperamos las frecuencias\n",
    "\n",
    "plt.stem(frq, np.abs(Y) )  # Representamos la parte imaginaria\n",
    "plt.ylim(-0.1, 0.8)\n",
    "plt.xlabel('$Frecuencia/Hz$'); plt.ylabel('$Abs(Y)$')\n",
    "plt.grid(); plt.show()"
   ]
  },
  {
   "cell_type": "code",
   "execution_count": 4,
   "metadata": {},
   "outputs": [],
   "source": [
    "# Estas funciones calculas las componentes de la serie de Fourier para una senal dada\n",
    "# A cada función se pasa como argumento la señal x y el numero de armonico a calcular.\n",
    "# El muestreo se define por la cantidad de muestras dentro del periodo de la señal x.\n",
    "        #ex =[np.exp(-2j*np.pi*k*n/N) for n,s in enumerate(x)]\n",
    "        #print('|{:1.1f}| {:1.1f}| {:1.1f}| {:1.1f}| {:1.1f} | {:1.1f} |{:1.1f}| {:1.1f} |'.format( \n",
    "        #    ex[0],ex[1],ex[2],ex[3],ex[4],ex[5],ex[6],ex[7]  ) ) \n",
    "\n",
    "# Transformada Discreta de Fourier     \n",
    "def DFT(x):\n",
    "    N = len(x)\n",
    "    X = list()\n",
    "    for k in range(N):\n",
    "        X.append( sum([s*np.exp(-2j*np.pi*n*k/N) for n,s in enumerate(x)]))\n",
    "    return np.array(X)  \n",
    "\n",
    "# Transformada Inversa Discreta de Fourier       \n",
    "def IDFT(X):\n",
    "    N = len(X)\n",
    "    x = list()\n",
    "    for n in range(N):\n",
    "        x.append( sum([S*np.exp(2j*np.pi*k*n/N) for k,S in enumerate(X)]))\n",
    "    return np.array(x)/N  \n",
    "    \n",
    "def freq(X, fs):\n",
    "    N =  len(X)\n",
    "    fo = np.arange(0,N/2,1) *fs/ N\n",
    "    fo = np.append(fo,np.arange(-N/2,0,1) *fs/N )\n",
    "    return fo\n",
    "\n",
    "def tim(x, fs):\n",
    "    return np.arange(0,len(x),1) /fs\n",
    "    "
   ]
  },
  {
   "cell_type": "code",
   "execution_count": 5,
   "metadata": {
    "scrolled": false
   },
   "outputs": [
    {
     "name": "stdout",
     "output_type": "stream",
     "text": [
      "Elapsed time: 0.0024156570 seconds.\n"
     ]
    },
    {
     "name": "stderr",
     "output_type": "stream",
     "text": [
      "/home/aalmela/anaconda3/lib/python3.7/site-packages/ipykernel_launcher.py:13: UserWarning: In Matplotlib 3.3 individual lines on a stem plot will be added as a LineCollection instead of individual lines. This significantly improves the performance of a stem plot. To remove this warning and switch to the new behaviour, set the \"use_line_collection\" keyword argument to True.\n",
      "  del sys.path[0]\n"
     ]
    },
    {
     "data": {
      "image/png": "[encoded data removed]",
      "text/plain": [
       "<Figure size 432x288 with 1 Axes>"
      ]
     },
     "metadata": {
      "needs_background": "light"
     },
     "output_type": "display_data"
    }
   ],
   "source": [
    "## Cálculo del espectro empleando la funciones propias.\n",
    "# Se mide el tiempo de computo de la función con fines de comparación.\n",
    "\n",
    "# Serie de Fourier Exponencial\n",
    "# la separacion de las deltas = 1/T \n",
    "\n",
    "start_time = time()\n",
    "Y    = DFT(y) / len(y)\n",
    "\n",
    "elapsed_time = time() - start_time\n",
    "print(\"Elapsed time: %.10f seconds.\" % elapsed_time)\n",
    "\n",
    "plt.stem( freq(y,fs) , np.abs(Y))\n",
    "plt.ylabel('c'); plt.xlabel('freq')\n",
    "#plt.ylim(-0.1, 0.8)\n",
    "plt.grid(); plt.show()\n"
   ]
  },
  {
   "cell_type": "code",
   "execution_count": 344,
   "metadata": {},
   "outputs": [
    {
     "name": "stderr",
     "output_type": "stream",
     "text": [
      "/home/aalmela/anaconda3/lib/python3.7/site-packages/numpy/core/_asarray.py:85: ComplexWarning: Casting complex values to real discards the imaginary part\n",
      "  return array(a, dtype, copy=False, order=order)\n",
      "/home/aalmela/anaconda3/lib/python3.7/site-packages/numpy/core/_asarray.py:85: ComplexWarning: Casting complex values to real discards the imaginary part\n",
      "  return array(a, dtype, copy=False, order=order)\n"
     ]
    },
    {
     "data": {
      "image/png": "[encoded data removed]",
      "text/plain": [
       "<Figure size 432x432 with 1 Axes>"
      ]
     },
     "metadata": {
      "needs_background": "light"
     },
     "output_type": "display_data"
    }
   ],
   "source": [
    "yo    = IDFT(Y)\n",
    "\n",
    "plt.plot(tim(yo,fs), yo); plt.plot(tim(yo,fs), yo,'o')\n",
    "plt.ylabel('yo'); plt.xlabel('time')\n",
    "plt.grid(); plt.show()\n"
   ]
  },
  {
   "cell_type": "code",
   "execution_count": null,
   "metadata": {},
   "outputs": [],
   "source": []
  }
 ],
 "metadata": {
  "kernelspec": {
   "display_name": "Python 3",
   "language": "python",
   "name": "python3"
  },
  "language_info": {
   "codemirror_mode": {
    "name": "ipython",
    "version": 3
   },
   "file_extension": ".py",
   "mimetype": "text/x-python",
   "name": "python",
   "nbconvert_exporter": "python",
   "pygments_lexer": "ipython3",
   "version": "3.7.0"
  },
  "latex_envs": {
   "LaTeX_envs_menu_present": true,
   "autoclose": false,
   "autocomplete": true,
   "bibliofile": "biblio.bib",
   "cite_by": "apalike",
   "current_citInitial": 1,
   "eqLabelWithNumbers": true,
   "eqNumInitial": 1,
   "hotkeys": {
    "equation": "Ctrl-E",
    "itemize": "Ctrl-I"
   },
   "labels_anchors": false,
   "latex_user_defs": false,
   "report_style_numbering": false,
   "user_envs_cfg": false
  }
 },
 "nbformat": 4,
 "nbformat_minor": 2
}
