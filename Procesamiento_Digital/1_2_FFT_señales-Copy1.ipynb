{
 "cells": [
  {
   "cell_type": "code",
   "execution_count": 11,
   "metadata": {},
   "outputs": [],
   "source": [
    "import matplotlib.pyplot as plt\n",
    "\n",
    "import numpy as np\n",
    "from scipy.fftpack import fft, fftfreq\n",
    "from scipy import signal\n",
    "import scipy.special as sp\n",
    "\n",
    "import pylab as py\n",
    "# https://docs.scipy.org/doc/scipy/reference/generated/scipy.special.jv.html#scipy.special.jv\n",
    "\n",
    "from ipywidgets import *\n",
    "%matplotlib inline\n",
    "plt.close('all')\n",
    "plt.rcParams['figure.figsize'] = [20, 6]\n",
    "\n",
    "\n",
    "\n"
   ]
  },
  {
   "cell_type": "code",
   "execution_count": 27,
   "metadata": {},
   "outputs": [],
   "source": [
    "def Fourier_Signal(stype='square', duty = 0.5, Ns = 20, a = 10  ):\n",
    "    # Defino el vector de phase del muestreo\n",
    "    po  = np.arange(0,2*np.pi, 2*np.pi/Ns)\n",
    "    x   =  np.zeros(len(po))\n",
    "    p1  =  np.append(po, po+2*np.pi)\n",
    "    p   =  np.append(p1, po+4*np.pi)\n",
    "    \n",
    "    if stype == 'pulse': \n",
    "        x  =  np.append(x,np.array([xi*(xi >(duty-0.5))+0*(xi <=(duty-0.5)) for xi in np.sin(po)]))\n",
    "        \n",
    "    if stype == 'square': \n",
    "        x  =  np.append(x,1+signal.square(po,duty=duty))\n",
    "\n",
    "    if stype == 'sawtooth': \n",
    "        x  =  np.append(x,1+signal.sawtooth(po,width=duty) )\n",
    "\n",
    "    x  =  np.append(x, np.zeros(len(po)))\n",
    "        \n",
    "    plt.subplot(2,1,1)\n",
    "    plt.plot(p,x);\n",
    "    plt.plot(p,x,'ro');\n",
    "    plt.plot(p,x,'r-');\n",
    "\n",
    "    plt.grid()\n",
    "    plt.title('Señal en tiempo');\n",
    "    plt.xlabel('Tiempo(s)'); plt.ylabel('Amplitud')\n",
    "    X = (fft(x)/Ns)\n",
    "    frq = fftfreq(len(X), 2*np.pi/Ns)  # Recuperamos las frecuencias\n",
    "    \n",
    "    plt.subplot(2,1,2)\n",
    "    #plt.plot(0,af[0],'ro' )  # continua \n",
    "    #plt.plot(0,af[0],'r-' )  # continua \n",
    "    plt.stem( frq, (X) )  # Representamos la parte imaginaria \n",
    "    #for n,xfi in enumerate(af[1:a]):\n",
    "    #    plt.plot(n+1,af[n], 'go')\n",
    "    #    plt.plot(n+1,bf[n], 'bo')\n",
    "   \n",
    "    plt.title('Magnitud de espectro')\n",
    "    plt.xlabel('Armonico'); \n",
    "    plt.ylabel('Magnitud')\n",
    "    plt.grid()\n",
    "    plt.tight_layout()\n",
    "\n",
    "\n",
    "\n"
   ]
  },
  {
   "cell_type": "code",
   "execution_count": 29,
   "metadata": {},
   "outputs": [
    {
     "data": {
      "application/vnd.jupyter.widget-view+json": {
       "model_id": "a141807d29a54ea6a0a8eeff943577ee",
       "version_major": 2,
       "version_minor": 0
      },
      "text/plain": [
       "interactive(children=(Dropdown(description='stype', index=1, options=('pulse', 'square', 'sawtooth'), value='s…"
      ]
     },
     "metadata": {},
     "output_type": "display_data"
    }
   ],
   "source": [
    "interact (Fourier_Signal,stype=['pulse','square','sawtooth'],duty = (0.1,0.9,0.1),Ns = fixed(400));"
   ]
  },
  {
   "cell_type": "code",
   "execution_count": null,
   "metadata": {},
   "outputs": [],
   "source": []
  }
 ],
 "metadata": {
  "kernelspec": {
   "display_name": "Python 3",
   "language": "python",
   "name": "python3"
  },
  "language_info": {
   "codemirror_mode": {
    "name": "ipython",
    "version": 3
   },
   "file_extension": ".py",
   "mimetype": "text/x-python",
   "name": "python",
   "nbconvert_exporter": "python",
   "pygments_lexer": "ipython3",
   "version": "3.7.0"
  },
  "latex_envs": {
   "LaTeX_envs_menu_present": true,
   "autoclose": false,
   "autocomplete": true,
   "bibliofile": "biblio.bib",
   "cite_by": "apalike",
   "current_citInitial": 1,
   "eqLabelWithNumbers": true,
   "eqNumInitial": 1,
   "hotkeys": {
    "equation": "Ctrl-E",
    "itemize": "Ctrl-I"
   },
   "labels_anchors": false,
   "latex_user_defs": false,
   "report_style_numbering": false,
   "user_envs_cfg": false
  }
 },
 "nbformat": 4,
 "nbformat_minor": 2
}
